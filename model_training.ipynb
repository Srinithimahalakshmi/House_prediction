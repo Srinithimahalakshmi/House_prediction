{
 "cells": [
  {
   "cell_type": "code",
   "execution_count": 7,
   "id": "e9275527",
   "metadata": {},
   "outputs": [
    {
     "name": "stdout",
     "output_type": "stream",
     "text": [
      "✅ Model saved to model/ridge_model.joblib\n"
     ]
    }
   ],
   "source": [
    "import pandas as pd\n",
    "from sklearn.linear_model import Ridge\n",
    "from sklearn.model_selection import train_test_split\n",
    "from sklearn.preprocessing import StandardScaler\n",
    "from sklearn.pipeline import Pipeline\n",
    "import joblib\n",
    "import os\n",
    "\n",
    "# Load dataset\n",
    "df = pd.read_csv('train.csv')  # Adjust filename if needed\n",
    "\n",
    "# Select features and target\n",
    "features = ['GrLivArea', 'GarageCars', 'TotalBsmtSF', 'OverallQual']\n",
    "target = 'SalePrice'\n",
    "\n",
    "# Drop rows with missing values in selected columns\n",
    "df = df[features + [target]].dropna()\n",
    "\n",
    "X = df[features]\n",
    "y = df[target]\n",
    "\n",
    "# Train-test split\n",
    "X_train, X_test, y_train, y_test = train_test_split(X, y, test_size=0.2, random_state=42)\n",
    "\n",
    "# Ridge Regression with scaling\n",
    "pipeline = Pipeline([\n",
    "    ('scaler', StandardScaler()),\n",
    "    ('ridge', Ridge(alpha=1.0))\n",
    "])\n",
    "\n",
    "# Train model\n",
    "pipeline.fit(X_train, y_train)\n",
    "\n",
    "# Save model\n",
    "os.makedirs('model', exist_ok=True)\n",
    "joblib.dump(pipeline, 'model/ridge_model.joblib')\n",
    "print(\"✅ Model saved to model/ridge_model.joblib\")\n"
   ]
  }
 ],
 "metadata": {
  "kernelspec": {
   "display_name": "Python 3",
   "language": "python",
   "name": "python3"
  },
  "language_info": {
   "codemirror_mode": {
    "name": "ipython",
    "version": 3
   },
   "file_extension": ".py",
   "mimetype": "text/x-python",
   "name": "python",
   "nbconvert_exporter": "python",
   "pygments_lexer": "ipython3",
   "version": "3.10.9"
  }
 },
 "nbformat": 4,
 "nbformat_minor": 5
}
